{
 "cells": [
  {
   "cell_type": "code",
   "execution_count": 2,
   "metadata": {},
   "outputs": [
    {
     "name": "stderr",
     "output_type": "stream",
     "text": [
      "/Users/koretsunobuyasu/.pyenv/versions/3.7.5/lib/python3.7/importlib/_bootstrap.py:219: RuntimeWarning: numpy.ufunc size changed, may indicate binary incompatibility. Expected 192 from C header, got 216 from PyObject\n",
      "  return f(*args, **kwds)\n",
      "/Users/koretsunobuyasu/.pyenv/versions/3.7.5/lib/python3.7/importlib/_bootstrap.py:219: RuntimeWarning: numpy.ufunc size changed, may indicate binary incompatibility. Expected 192 from C header, got 216 from PyObject\n",
      "  return f(*args, **kwds)\n",
      "/Users/koretsunobuyasu/.pyenv/versions/3.7.5/lib/python3.7/importlib/_bootstrap.py:219: RuntimeWarning: numpy.ufunc size changed, may indicate binary incompatibility. Expected 192 from C header, got 216 from PyObject\n",
      "  return f(*args, **kwds)\n"
     ]
    },
    {
     "data": {
      "text/plain": [
       "'%.3f'"
      ]
     },
     "execution_count": 2,
     "metadata": {},
     "output_type": "execute_result"
    }
   ],
   "source": [
    "import numpy as np\n",
    "import scipy as sp\n",
    "import pandas as pd\n",
    "\n",
    "from pandas import Series, DataFrame\n",
    "\n",
    "# 可視化ライブラリ\n",
    "import matplotlib.pyplot as plt\n",
    "import matplotlib as mpl\n",
    "import seaborn as sns\n",
    "sns.set()\n",
    "%matplotlib inline\n",
    "\n",
    "%precision 3"
   ]
  },
  {
   "cell_type": "code",
   "execution_count": 3,
   "metadata": {},
   "outputs": [
    {
     "name": "stderr",
     "output_type": "stream",
     "text": [
      "/Users/koretsunobuyasu/.pyenv/versions/3.7.5/lib/python3.7/importlib/_bootstrap.py:219: RuntimeWarning: numpy.ufunc size changed, may indicate binary incompatibility. Expected 192 from C header, got 216 from PyObject\n",
      "  return f(*args, **kwds)\n"
     ]
    }
   ],
   "source": [
    "from sklearn import linear_model"
   ]
  },
  {
   "cell_type": "code",
   "execution_count": 4,
   "metadata": {},
   "outputs": [
    {
     "data": {
      "text/plain": [
       "'/Users/koretsunobuyasu/GitHub/SelfStudy'"
      ]
     },
     "execution_count": 4,
     "metadata": {},
     "output_type": "execute_result"
    }
   ],
   "source": [
    "pwd"
   ]
  },
  {
   "cell_type": "code",
   "execution_count": 5,
   "metadata": {},
   "outputs": [],
   "source": [
    "mkdir chap3"
   ]
  },
  {
   "cell_type": "code",
   "execution_count": 6,
   "metadata": {},
   "outputs": [
    {
     "name": "stdout",
     "output_type": "stream",
     "text": [
      "/Users/koretsunobuyasu/GitHub/SelfStudy/chap3\n"
     ]
    }
   ],
   "source": [
    "cd ./chap3"
   ]
  },
  {
   "cell_type": "code",
   "execution_count": 7,
   "metadata": {},
   "outputs": [
    {
     "data": {
      "text/plain": [
       "'/Users/koretsunobuyasu/GitHub/SelfStudy/chap3'"
      ]
     },
     "execution_count": 7,
     "metadata": {},
     "output_type": "execute_result"
    }
   ],
   "source": [
    "pwd"
   ]
  },
  {
   "cell_type": "code",
   "execution_count": 9,
   "metadata": {},
   "outputs": [],
   "source": [
    "# Webからデータを取得したり、zipファイルを扱うためのライブラリ\n",
    "import requests, zipfile\n",
    "from io import StringIO\n",
    "import io"
   ]
  },
  {
   "cell_type": "code",
   "execution_count": 10,
   "metadata": {},
   "outputs": [],
   "source": [
    "# データがあるURLの指定\n",
    "url = 'https://archive.ics.uci.edu/ml/machine-learning-databases/00356/student.zip'\n",
    "\n",
    "# データをURLから取得する\n",
    "r = requests.get(url, stream=True)\n",
    "\n",
    "# zipfileを読み込み展開する\n",
    "z = zipfile.ZipFile(io.BytesIO(r.content))\n",
    "z.extractall()"
   ]
  },
  {
   "cell_type": "code",
   "execution_count": 11,
   "metadata": {},
   "outputs": [
    {
     "name": "stdout",
     "output_type": "stream",
     "text": [
      "student-mat.csv  student-merge.R  student-por.csv  student.txt\r\n"
     ]
    }
   ],
   "source": [
    "ls"
   ]
  },
  {
   "cell_type": "code",
   "execution_count": 12,
   "metadata": {},
   "outputs": [],
   "source": [
    "student_data_math = pd.read_csv('student-mat.csv')"
   ]
  },
  {
   "cell_type": "code",
   "execution_count": 13,
   "metadata": {},
   "outputs": [
    {
     "data": {
      "text/html": [
       "<div>\n",
       "<style scoped>\n",
       "    .dataframe tbody tr th:only-of-type {\n",
       "        vertical-align: middle;\n",
       "    }\n",
       "\n",
       "    .dataframe tbody tr th {\n",
       "        vertical-align: top;\n",
       "    }\n",
       "\n",
       "    .dataframe thead th {\n",
       "        text-align: right;\n",
       "    }\n",
       "</style>\n",
       "<table border=\"1\" class=\"dataframe\">\n",
       "  <thead>\n",
       "    <tr style=\"text-align: right;\">\n",
       "      <th></th>\n",
       "      <th>school;sex;age;address;famsize;Pstatus;Medu;Fedu;Mjob;Fjob;reason;guardian;traveltime;studytime;failures;schoolsup;famsup;paid;activities;nursery;higher;internet;romantic;famrel;freetime;goout;Dalc;Walc;health;absences;G1;G2;G3</th>\n",
       "    </tr>\n",
       "  </thead>\n",
       "  <tbody>\n",
       "    <tr>\n",
       "      <th>0</th>\n",
       "      <td>GP;\"F\";18;\"U\";\"GT3\";\"A\";4;4;\"at_home\";\"teacher...</td>\n",
       "    </tr>\n",
       "    <tr>\n",
       "      <th>1</th>\n",
       "      <td>GP;\"F\";17;\"U\";\"GT3\";\"T\";1;1;\"at_home\";\"other\";...</td>\n",
       "    </tr>\n",
       "    <tr>\n",
       "      <th>2</th>\n",
       "      <td>GP;\"F\";15;\"U\";\"LE3\";\"T\";1;1;\"at_home\";\"other\";...</td>\n",
       "    </tr>\n",
       "    <tr>\n",
       "      <th>3</th>\n",
       "      <td>GP;\"F\";15;\"U\";\"GT3\";\"T\";4;2;\"health\";\"services...</td>\n",
       "    </tr>\n",
       "    <tr>\n",
       "      <th>4</th>\n",
       "      <td>GP;\"F\";16;\"U\";\"GT3\";\"T\";3;3;\"other\";\"other\";\"h...</td>\n",
       "    </tr>\n",
       "  </tbody>\n",
       "</table>\n",
       "</div>"
      ],
      "text/plain": [
       "  school;sex;age;address;famsize;Pstatus;Medu;Fedu;Mjob;Fjob;reason;guardian;traveltime;studytime;failures;schoolsup;famsup;paid;activities;nursery;higher;internet;romantic;famrel;freetime;goout;Dalc;Walc;health;absences;G1;G2;G3\n",
       "0  GP;\"F\";18;\"U\";\"GT3\";\"A\";4;4;\"at_home\";\"teacher...                                                                                                                                                                                 \n",
       "1  GP;\"F\";17;\"U\";\"GT3\";\"T\";1;1;\"at_home\";\"other\";...                                                                                                                                                                                 \n",
       "2  GP;\"F\";15;\"U\";\"LE3\";\"T\";1;1;\"at_home\";\"other\";...                                                                                                                                                                                 \n",
       "3  GP;\"F\";15;\"U\";\"GT3\";\"T\";4;2;\"health\";\"services...                                                                                                                                                                                 \n",
       "4  GP;\"F\";16;\"U\";\"GT3\";\"T\";3;3;\"other\";\"other\";\"h...                                                                                                                                                                                 "
      ]
     },
     "execution_count": 13,
     "metadata": {},
     "output_type": "execute_result"
    }
   ],
   "source": [
    "student_data_math.head()"
   ]
  },
  {
   "cell_type": "code",
   "execution_count": 14,
   "metadata": {},
   "outputs": [],
   "source": [
    "# データの読み込み\n",
    "# 区切りに;がついているので注意\n",
    "student_data_math = pd.read_csv('student-mat.csv', sep=';')"
   ]
  },
  {
   "cell_type": "code",
   "execution_count": 15,
   "metadata": {},
   "outputs": [
    {
     "data": {
      "text/html": [
       "<div>\n",
       "<style scoped>\n",
       "    .dataframe tbody tr th:only-of-type {\n",
       "        vertical-align: middle;\n",
       "    }\n",
       "\n",
       "    .dataframe tbody tr th {\n",
       "        vertical-align: top;\n",
       "    }\n",
       "\n",
       "    .dataframe thead th {\n",
       "        text-align: right;\n",
       "    }\n",
       "</style>\n",
       "<table border=\"1\" class=\"dataframe\">\n",
       "  <thead>\n",
       "    <tr style=\"text-align: right;\">\n",
       "      <th></th>\n",
       "      <th>school</th>\n",
       "      <th>sex</th>\n",
       "      <th>age</th>\n",
       "      <th>address</th>\n",
       "      <th>famsize</th>\n",
       "      <th>Pstatus</th>\n",
       "      <th>Medu</th>\n",
       "      <th>Fedu</th>\n",
       "      <th>Mjob</th>\n",
       "      <th>Fjob</th>\n",
       "      <th>reason</th>\n",
       "      <th>guardian</th>\n",
       "      <th>traveltime</th>\n",
       "      <th>studytime</th>\n",
       "      <th>failures</th>\n",
       "      <th>schoolsup</th>\n",
       "      <th>famsup</th>\n",
       "      <th>paid</th>\n",
       "      <th>activities</th>\n",
       "      <th>nursery</th>\n",
       "      <th>higher</th>\n",
       "      <th>internet</th>\n",
       "      <th>romantic</th>\n",
       "      <th>famrel</th>\n",
       "      <th>freetime</th>\n",
       "      <th>goout</th>\n",
       "      <th>Dalc</th>\n",
       "      <th>Walc</th>\n",
       "      <th>health</th>\n",
       "      <th>absences</th>\n",
       "      <th>G1</th>\n",
       "      <th>G2</th>\n",
       "      <th>G3</th>\n",
       "    </tr>\n",
       "  </thead>\n",
       "  <tbody>\n",
       "    <tr>\n",
       "      <th>0</th>\n",
       "      <td>GP</td>\n",
       "      <td>F</td>\n",
       "      <td>18</td>\n",
       "      <td>U</td>\n",
       "      <td>GT3</td>\n",
       "      <td>A</td>\n",
       "      <td>4</td>\n",
       "      <td>4</td>\n",
       "      <td>at_home</td>\n",
       "      <td>teacher</td>\n",
       "      <td>course</td>\n",
       "      <td>mother</td>\n",
       "      <td>2</td>\n",
       "      <td>2</td>\n",
       "      <td>0</td>\n",
       "      <td>yes</td>\n",
       "      <td>no</td>\n",
       "      <td>no</td>\n",
       "      <td>no</td>\n",
       "      <td>yes</td>\n",
       "      <td>yes</td>\n",
       "      <td>no</td>\n",
       "      <td>no</td>\n",
       "      <td>4</td>\n",
       "      <td>3</td>\n",
       "      <td>4</td>\n",
       "      <td>1</td>\n",
       "      <td>1</td>\n",
       "      <td>3</td>\n",
       "      <td>6</td>\n",
       "      <td>5</td>\n",
       "      <td>6</td>\n",
       "      <td>6</td>\n",
       "    </tr>\n",
       "    <tr>\n",
       "      <th>1</th>\n",
       "      <td>GP</td>\n",
       "      <td>F</td>\n",
       "      <td>17</td>\n",
       "      <td>U</td>\n",
       "      <td>GT3</td>\n",
       "      <td>T</td>\n",
       "      <td>1</td>\n",
       "      <td>1</td>\n",
       "      <td>at_home</td>\n",
       "      <td>other</td>\n",
       "      <td>course</td>\n",
       "      <td>father</td>\n",
       "      <td>1</td>\n",
       "      <td>2</td>\n",
       "      <td>0</td>\n",
       "      <td>no</td>\n",
       "      <td>yes</td>\n",
       "      <td>no</td>\n",
       "      <td>no</td>\n",
       "      <td>no</td>\n",
       "      <td>yes</td>\n",
       "      <td>yes</td>\n",
       "      <td>no</td>\n",
       "      <td>5</td>\n",
       "      <td>3</td>\n",
       "      <td>3</td>\n",
       "      <td>1</td>\n",
       "      <td>1</td>\n",
       "      <td>3</td>\n",
       "      <td>4</td>\n",
       "      <td>5</td>\n",
       "      <td>5</td>\n",
       "      <td>6</td>\n",
       "    </tr>\n",
       "    <tr>\n",
       "      <th>2</th>\n",
       "      <td>GP</td>\n",
       "      <td>F</td>\n",
       "      <td>15</td>\n",
       "      <td>U</td>\n",
       "      <td>LE3</td>\n",
       "      <td>T</td>\n",
       "      <td>1</td>\n",
       "      <td>1</td>\n",
       "      <td>at_home</td>\n",
       "      <td>other</td>\n",
       "      <td>other</td>\n",
       "      <td>mother</td>\n",
       "      <td>1</td>\n",
       "      <td>2</td>\n",
       "      <td>3</td>\n",
       "      <td>yes</td>\n",
       "      <td>no</td>\n",
       "      <td>yes</td>\n",
       "      <td>no</td>\n",
       "      <td>yes</td>\n",
       "      <td>yes</td>\n",
       "      <td>yes</td>\n",
       "      <td>no</td>\n",
       "      <td>4</td>\n",
       "      <td>3</td>\n",
       "      <td>2</td>\n",
       "      <td>2</td>\n",
       "      <td>3</td>\n",
       "      <td>3</td>\n",
       "      <td>10</td>\n",
       "      <td>7</td>\n",
       "      <td>8</td>\n",
       "      <td>10</td>\n",
       "    </tr>\n",
       "    <tr>\n",
       "      <th>3</th>\n",
       "      <td>GP</td>\n",
       "      <td>F</td>\n",
       "      <td>15</td>\n",
       "      <td>U</td>\n",
       "      <td>GT3</td>\n",
       "      <td>T</td>\n",
       "      <td>4</td>\n",
       "      <td>2</td>\n",
       "      <td>health</td>\n",
       "      <td>services</td>\n",
       "      <td>home</td>\n",
       "      <td>mother</td>\n",
       "      <td>1</td>\n",
       "      <td>3</td>\n",
       "      <td>0</td>\n",
       "      <td>no</td>\n",
       "      <td>yes</td>\n",
       "      <td>yes</td>\n",
       "      <td>yes</td>\n",
       "      <td>yes</td>\n",
       "      <td>yes</td>\n",
       "      <td>yes</td>\n",
       "      <td>yes</td>\n",
       "      <td>3</td>\n",
       "      <td>2</td>\n",
       "      <td>2</td>\n",
       "      <td>1</td>\n",
       "      <td>1</td>\n",
       "      <td>5</td>\n",
       "      <td>2</td>\n",
       "      <td>15</td>\n",
       "      <td>14</td>\n",
       "      <td>15</td>\n",
       "    </tr>\n",
       "    <tr>\n",
       "      <th>4</th>\n",
       "      <td>GP</td>\n",
       "      <td>F</td>\n",
       "      <td>16</td>\n",
       "      <td>U</td>\n",
       "      <td>GT3</td>\n",
       "      <td>T</td>\n",
       "      <td>3</td>\n",
       "      <td>3</td>\n",
       "      <td>other</td>\n",
       "      <td>other</td>\n",
       "      <td>home</td>\n",
       "      <td>father</td>\n",
       "      <td>1</td>\n",
       "      <td>2</td>\n",
       "      <td>0</td>\n",
       "      <td>no</td>\n",
       "      <td>yes</td>\n",
       "      <td>yes</td>\n",
       "      <td>no</td>\n",
       "      <td>yes</td>\n",
       "      <td>yes</td>\n",
       "      <td>no</td>\n",
       "      <td>no</td>\n",
       "      <td>4</td>\n",
       "      <td>3</td>\n",
       "      <td>2</td>\n",
       "      <td>1</td>\n",
       "      <td>2</td>\n",
       "      <td>5</td>\n",
       "      <td>4</td>\n",
       "      <td>6</td>\n",
       "      <td>10</td>\n",
       "      <td>10</td>\n",
       "    </tr>\n",
       "  </tbody>\n",
       "</table>\n",
       "</div>"
      ],
      "text/plain": [
       "  school sex  age address famsize Pstatus  Medu  Fedu     Mjob      Fjob  reason guardian  ...  internet  romantic  famrel freetime goout Dalc Walc health absences  G1  G2  G3\n",
       "0     GP   F   18       U     GT3       A     4     4  at_home   teacher  course   mother  ...        no        no       4        3     4    1    1      3        6   5   6   6\n",
       "1     GP   F   17       U     GT3       T     1     1  at_home     other  course   father  ...       yes        no       5        3     3    1    1      3        4   5   5   6\n",
       "2     GP   F   15       U     LE3       T     1     1  at_home     other   other   mother  ...       yes        no       4        3     2    2    3      3       10   7   8  10\n",
       "3     GP   F   15       U     GT3       T     4     2   health  services    home   mother  ...       yes       yes       3        2     2    1    1      5        2  15  14  15\n",
       "4     GP   F   16       U     GT3       T     3     3    other     other    home   father  ...        no        no       4        3     2    1    2      5        4   6  10  10\n",
       "\n",
       "[5 rows x 33 columns]"
      ]
     },
     "execution_count": 15,
     "metadata": {},
     "output_type": "execute_result"
    }
   ],
   "source": [
    "# どんなデータがあるかざっと見る\n",
    "student_data_math.head()"
   ]
  },
  {
   "cell_type": "code",
   "execution_count": 17,
   "metadata": {},
   "outputs": [
    {
     "name": "stdout",
     "output_type": "stream",
     "text": [
      "<class 'pandas.core.frame.DataFrame'>\n",
      "RangeIndex: 395 entries, 0 to 394\n",
      "Data columns (total 33 columns):\n",
      " #   Column      Non-Null Count  Dtype \n",
      "---  ------      --------------  ----- \n",
      " 0   school      395 non-null    object\n",
      " 1   sex         395 non-null    object\n",
      " 2   age         395 non-null    int64 \n",
      " 3   address     395 non-null    object\n",
      " 4   famsize     395 non-null    object\n",
      " 5   Pstatus     395 non-null    object\n",
      " 6   Medu        395 non-null    int64 \n",
      " 7   Fedu        395 non-null    int64 \n",
      " 8   Mjob        395 non-null    object\n",
      " 9   Fjob        395 non-null    object\n",
      " 10  reason      395 non-null    object\n",
      " 11  guardian    395 non-null    object\n",
      " 12  traveltime  395 non-null    int64 \n",
      " 13  studytime   395 non-null    int64 \n",
      " 14  failures    395 non-null    int64 \n",
      " 15  schoolsup   395 non-null    object\n",
      " 16  famsup      395 non-null    object\n",
      " 17  paid        395 non-null    object\n",
      " 18  activities  395 non-null    object\n",
      " 19  nursery     395 non-null    object\n",
      " 20  higher      395 non-null    object\n",
      " 21  internet    395 non-null    object\n",
      " 22  romantic    395 non-null    object\n",
      " 23  famrel      395 non-null    int64 \n",
      " 24  freetime    395 non-null    int64 \n",
      " 25  goout       395 non-null    int64 \n",
      " 26  Dalc        395 non-null    int64 \n",
      " 27  Walc        395 non-null    int64 \n",
      " 28  health      395 non-null    int64 \n",
      " 29  absences    395 non-null    int64 \n",
      " 30  G1          395 non-null    int64 \n",
      " 31  G2          395 non-null    int64 \n",
      " 32  G3          395 non-null    int64 \n",
      "dtypes: int64(16), object(17)\n",
      "memory usage: 102.0+ KB\n"
     ]
    }
   ],
   "source": [
    "student_data_math.info()"
   ]
  },
  {
   "cell_type": "code",
   "execution_count": 18,
   "metadata": {},
   "outputs": [
    {
     "data": {
      "text/plain": [
       "0    F\n",
       "1    F\n",
       "2    F\n",
       "3    F\n",
       "4    F\n",
       "Name: sex, dtype: object"
      ]
     },
     "execution_count": 18,
     "metadata": {},
     "output_type": "execute_result"
    }
   ],
   "source": [
    "student_data_math['sex'].head()"
   ]
  },
  {
   "cell_type": "code",
   "execution_count": 19,
   "metadata": {},
   "outputs": [
    {
     "data": {
      "text/plain": [
       "0     6\n",
       "1     4\n",
       "2    10\n",
       "3     2\n",
       "4     4\n",
       "Name: absences, dtype: int64"
      ]
     },
     "execution_count": 19,
     "metadata": {},
     "output_type": "execute_result"
    }
   ],
   "source": [
    "student_data_math['absences'].head()"
   ]
  },
  {
   "cell_type": "code",
   "execution_count": 20,
   "metadata": {},
   "outputs": [
    {
     "data": {
      "text/plain": [
       "sex\n",
       "F    16.730769\n",
       "M    16.657754\n",
       "Name: age, dtype: float64"
      ]
     },
     "execution_count": 20,
     "metadata": {},
     "output_type": "execute_result"
    }
   ],
   "source": [
    "student_data_math.groupby('sex')['age'].mean()"
   ]
  },
  {
   "cell_type": "code",
   "execution_count": 22,
   "metadata": {},
   "outputs": [
    {
     "data": {
      "text/plain": [
       "sex\n",
       "F    6.216346\n",
       "M    5.144385\n",
       "Name: absences, dtype: float64"
      ]
     },
     "execution_count": 22,
     "metadata": {},
     "output_type": "execute_result"
    }
   ],
   "source": [
    "student_data_math.groupby('sex')['absences'].mean()"
   ]
  },
  {
   "cell_type": "code",
   "execution_count": 23,
   "metadata": {},
   "outputs": [
    {
     "ename": "AttributeError",
     "evalue": "module 'matplotlib.pyplot' has no attribute 'ylable'",
     "output_type": "error",
     "traceback": [
      "\u001b[0;31m---------------------------------------------------------------------------\u001b[0m",
      "\u001b[0;31mAttributeError\u001b[0m                            Traceback (most recent call last)",
      "\u001b[0;32m<ipython-input-23-078dbc8d56e7>\u001b[0m in \u001b[0;36m<module>\u001b[0;34m\u001b[0m\n\u001b[1;32m      4\u001b[0m \u001b[0;31m# x軸とy軸のそれぞれのラベル\u001b[0m\u001b[0;34m\u001b[0m\u001b[0;34m\u001b[0m\u001b[0;34m\u001b[0m\u001b[0m\n\u001b[1;32m      5\u001b[0m \u001b[0mplt\u001b[0m\u001b[0;34m.\u001b[0m\u001b[0mxlabel\u001b[0m\u001b[0;34m(\u001b[0m\u001b[0;34m'absences'\u001b[0m\u001b[0;34m)\u001b[0m\u001b[0;34m\u001b[0m\u001b[0;34m\u001b[0m\u001b[0m\n\u001b[0;32m----> 6\u001b[0;31m \u001b[0mplt\u001b[0m\u001b[0;34m.\u001b[0m\u001b[0mylable\u001b[0m\u001b[0;34m(\u001b[0m\u001b[0;34m'count'\u001b[0m\u001b[0;34m)\u001b[0m\u001b[0;34m\u001b[0m\u001b[0;34m\u001b[0m\u001b[0m\n\u001b[0m\u001b[1;32m      7\u001b[0m \u001b[0;34m\u001b[0m\u001b[0m\n\u001b[1;32m      8\u001b[0m \u001b[0;31m# グリッドをつける\u001b[0m\u001b[0;34m\u001b[0m\u001b[0;34m\u001b[0m\u001b[0;34m\u001b[0m\u001b[0m\n",
      "\u001b[0;31mAttributeError\u001b[0m: module 'matplotlib.pyplot' has no attribute 'ylable'"
     ]
    },
    {
     "data": {
      "image/png": "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\n",
      "text/plain": [
       "<Figure size 432x288 with 1 Axes>"
      ]
     },
     "metadata": {
      "needs_background": "light"
     },
     "output_type": "display_data"
    }
   ],
   "source": [
    "# histogram, データの指定\n",
    "plt.hist(student_data_math['absences'])\n",
    "\n",
    "# x軸とy軸のそれぞれのラベル\n",
    "plt.xlabel('absences')\n",
    "plt.ylable('count')\n",
    "\n",
    "# グリッドをつける\n",
    "plt.grid(True)"
   ]
  },
  {
   "cell_type": "code",
   "execution_count": 24,
   "metadata": {},
   "outputs": [
    {
     "name": "stdout",
     "output_type": "stream",
     "text": [
      "平均値: 5.708860759493671\n",
      "中央値: 4.0\n",
      "最頻値: 0    0\n",
      "dtype: int64\n"
     ]
    }
   ],
   "source": [
    "# 平均値\n",
    "print('平均値:', student_data_math['absences'].mean())\n",
    "\n",
    "# 中央値: 中央値でデータを分けると中央値の前後でデータ数が同じになる(データの真ん中の値), 外れ値の値に影響を受けにくい\n",
    "print('中央値:', student_data_math['absences'].median())\n",
    "\n",
    "# 最頻値: 最も頻度が多い値\n",
    "print('最頻値:', student_data_math['absences'].mode())"
   ]
  },
  {
   "cell_type": "code",
   "execution_count": 26,
   "metadata": {},
   "outputs": [
    {
     "data": {
      "text/plain": [
       "63.887389841371565"
      ]
     },
     "execution_count": 26,
     "metadata": {},
     "output_type": "execute_result"
    }
   ],
   "source": [
    "# 分散: データが散らばっているのか、それともまとまっている(平均付近に固まっている)のかを調べる\n",
    "# 値が小さいほどデータの散らばりが少ないことを意味している\n",
    "student_data_math['absences'].var(ddof=0)"
   ]
  },
  {
   "cell_type": "code",
<<<<<<< HEAD
   "execution_count": 27,
   "metadata": {},
   "outputs": [
    {
     "data": {
      "text/plain": [
       "7.99295876640006"
      ]
     },
     "execution_count": 27,
     "metadata": {},
     "output_type": "execute_result"
    }
   ],
   "source": [
    "# 標準偏差: 　σ\n",
    "student_data_math['absences'].std(ddof=0)"
   ]
  },
  {
   "cell_type": "code",
   "execution_count": 28,
   "metadata": {},
   "outputs": [
    {
     "data": {
      "text/plain": [
       "8.00309568710818"
      ]
     },
     "execution_count": 28,
     "metadata": {},
     "output_type": "execute_result"
    }
   ],
   "source": [
    "np.sqrt(student_data_math['absences'].var())"
   ]
  },
  {
   "cell_type": "code",
   "execution_count": 29,
   "metadata": {},
   "outputs": [
    {
     "data": {
      "text/plain": [
       "count    395.000000\n",
       "mean       5.708861\n",
       "std        8.003096\n",
       "min        0.000000\n",
       "25%        0.000000\n",
       "50%        4.000000\n",
       "75%        8.000000\n",
       "max       75.000000\n",
       "Name: absences, dtype: float64"
      ]
     },
     "execution_count": 29,
     "metadata": {},
     "output_type": "execute_result"
    }
   ],
   "source": [
    "# 要約統計量(データ数,　平均値, 標準偏差, 25 50 75パーセントタイル値, 最大値)を求められる\n",
    "student_data_math['absences'].describe()"
   ]
  },
  {
   "cell_type": "code",
   "execution_count": 30,
   "metadata": {},
   "outputs": [
    {
     "name": "stdout",
     "output_type": "stream",
     "text": [
      "最大値: 75\n"
     ]
    }
   ],
   "source": [
    "print('最大値:', student_data_math['absences'].max())"
   ]
  },
  {
   "cell_type": "code",
   "execution_count": 32,
   "metadata": {},
   "outputs": [
    {
     "data": {
      "text/plain": [
       "8.0"
      ]
     },
     "execution_count": 32,
     "metadata": {},
     "output_type": "execute_result"
    }
   ],
   "source": [
    "# 四分位範囲(75%タイル - 25%タイル)\n",
    "student_data_math['absences'].describe()[6] - student_data_math['absences'].describe()[4]"
   ]
  },
  {
   "cell_type": "code",
   "execution_count": 33,
   "metadata": {},
   "outputs": [
    {
     "data": {
      "text/html": [
       "<div>\n",
       "<style scoped>\n",
       "    .dataframe tbody tr th:only-of-type {\n",
       "        vertical-align: middle;\n",
       "    }\n",
       "\n",
       "    .dataframe tbody tr th {\n",
       "        vertical-align: top;\n",
       "    }\n",
       "\n",
       "    .dataframe thead th {\n",
       "        text-align: right;\n",
       "    }\n",
       "</style>\n",
       "<table border=\"1\" class=\"dataframe\">\n",
       "  <thead>\n",
       "    <tr style=\"text-align: right;\">\n",
       "      <th></th>\n",
       "      <th>age</th>\n",
       "      <th>Medu</th>\n",
       "      <th>Fedu</th>\n",
       "      <th>traveltime</th>\n",
       "      <th>studytime</th>\n",
       "      <th>failures</th>\n",
       "      <th>famrel</th>\n",
       "      <th>freetime</th>\n",
       "      <th>goout</th>\n",
       "      <th>Dalc</th>\n",
       "      <th>Walc</th>\n",
       "      <th>health</th>\n",
       "      <th>absences</th>\n",
       "      <th>G1</th>\n",
       "      <th>G2</th>\n",
       "      <th>G3</th>\n",
       "    </tr>\n",
       "  </thead>\n",
       "  <tbody>\n",
       "    <tr>\n",
       "      <th>count</th>\n",
       "      <td>395.000000</td>\n",
       "      <td>395.000000</td>\n",
       "      <td>395.000000</td>\n",
       "      <td>395.000000</td>\n",
       "      <td>395.000000</td>\n",
       "      <td>395.000000</td>\n",
       "      <td>395.000000</td>\n",
       "      <td>395.000000</td>\n",
       "      <td>395.000000</td>\n",
       "      <td>395.000000</td>\n",
       "      <td>395.000000</td>\n",
       "      <td>395.000000</td>\n",
       "      <td>395.000000</td>\n",
       "      <td>395.000000</td>\n",
       "      <td>395.000000</td>\n",
       "      <td>395.000000</td>\n",
       "    </tr>\n",
       "    <tr>\n",
       "      <th>mean</th>\n",
       "      <td>16.696203</td>\n",
       "      <td>2.749367</td>\n",
       "      <td>2.521519</td>\n",
       "      <td>1.448101</td>\n",
       "      <td>2.035443</td>\n",
       "      <td>0.334177</td>\n",
       "      <td>3.944304</td>\n",
       "      <td>3.235443</td>\n",
       "      <td>3.108861</td>\n",
       "      <td>1.481013</td>\n",
       "      <td>2.291139</td>\n",
       "      <td>3.554430</td>\n",
       "      <td>5.708861</td>\n",
       "      <td>10.908861</td>\n",
       "      <td>10.713924</td>\n",
       "      <td>10.415190</td>\n",
       "    </tr>\n",
       "    <tr>\n",
       "      <th>std</th>\n",
       "      <td>1.276043</td>\n",
       "      <td>1.094735</td>\n",
       "      <td>1.088201</td>\n",
       "      <td>0.697505</td>\n",
       "      <td>0.839240</td>\n",
       "      <td>0.743651</td>\n",
       "      <td>0.896659</td>\n",
       "      <td>0.998862</td>\n",
       "      <td>1.113278</td>\n",
       "      <td>0.890741</td>\n",
       "      <td>1.287897</td>\n",
       "      <td>1.390303</td>\n",
       "      <td>8.003096</td>\n",
       "      <td>3.319195</td>\n",
       "      <td>3.761505</td>\n",
       "      <td>4.581443</td>\n",
       "    </tr>\n",
       "    <tr>\n",
       "      <th>min</th>\n",
       "      <td>15.000000</td>\n",
       "      <td>0.000000</td>\n",
       "      <td>0.000000</td>\n",
       "      <td>1.000000</td>\n",
       "      <td>1.000000</td>\n",
       "      <td>0.000000</td>\n",
       "      <td>1.000000</td>\n",
       "      <td>1.000000</td>\n",
       "      <td>1.000000</td>\n",
       "      <td>1.000000</td>\n",
       "      <td>1.000000</td>\n",
       "      <td>1.000000</td>\n",
       "      <td>0.000000</td>\n",
       "      <td>3.000000</td>\n",
       "      <td>0.000000</td>\n",
       "      <td>0.000000</td>\n",
       "    </tr>\n",
       "    <tr>\n",
       "      <th>25%</th>\n",
       "      <td>16.000000</td>\n",
       "      <td>2.000000</td>\n",
       "      <td>2.000000</td>\n",
       "      <td>1.000000</td>\n",
       "      <td>1.000000</td>\n",
       "      <td>0.000000</td>\n",
       "      <td>4.000000</td>\n",
       "      <td>3.000000</td>\n",
       "      <td>2.000000</td>\n",
       "      <td>1.000000</td>\n",
       "      <td>1.000000</td>\n",
       "      <td>3.000000</td>\n",
       "      <td>0.000000</td>\n",
       "      <td>8.000000</td>\n",
       "      <td>9.000000</td>\n",
       "      <td>8.000000</td>\n",
       "    </tr>\n",
       "    <tr>\n",
       "      <th>50%</th>\n",
       "      <td>17.000000</td>\n",
       "      <td>3.000000</td>\n",
       "      <td>2.000000</td>\n",
       "      <td>1.000000</td>\n",
       "      <td>2.000000</td>\n",
       "      <td>0.000000</td>\n",
       "      <td>4.000000</td>\n",
       "      <td>3.000000</td>\n",
       "      <td>3.000000</td>\n",
       "      <td>1.000000</td>\n",
       "      <td>2.000000</td>\n",
       "      <td>4.000000</td>\n",
       "      <td>4.000000</td>\n",
       "      <td>11.000000</td>\n",
       "      <td>11.000000</td>\n",
       "      <td>11.000000</td>\n",
       "    </tr>\n",
       "    <tr>\n",
       "      <th>75%</th>\n",
       "      <td>18.000000</td>\n",
       "      <td>4.000000</td>\n",
       "      <td>3.000000</td>\n",
       "      <td>2.000000</td>\n",
       "      <td>2.000000</td>\n",
       "      <td>0.000000</td>\n",
       "      <td>5.000000</td>\n",
       "      <td>4.000000</td>\n",
       "      <td>4.000000</td>\n",
       "      <td>2.000000</td>\n",
       "      <td>3.000000</td>\n",
       "      <td>5.000000</td>\n",
       "      <td>8.000000</td>\n",
       "      <td>13.000000</td>\n",
       "      <td>13.000000</td>\n",
       "      <td>14.000000</td>\n",
       "    </tr>\n",
       "    <tr>\n",
       "      <th>max</th>\n",
       "      <td>22.000000</td>\n",
       "      <td>4.000000</td>\n",
       "      <td>4.000000</td>\n",
       "      <td>4.000000</td>\n",
       "      <td>4.000000</td>\n",
       "      <td>3.000000</td>\n",
       "      <td>5.000000</td>\n",
       "      <td>5.000000</td>\n",
       "      <td>5.000000</td>\n",
       "      <td>5.000000</td>\n",
       "      <td>5.000000</td>\n",
       "      <td>5.000000</td>\n",
       "      <td>75.000000</td>\n",
       "      <td>19.000000</td>\n",
       "      <td>19.000000</td>\n",
       "      <td>20.000000</td>\n",
       "    </tr>\n",
       "  </tbody>\n",
       "</table>\n",
       "</div>"
      ],
      "text/plain": [
       "              age        Medu        Fedu  traveltime   studytime    failures      famrel  ...        Dalc        Walc      health    absences          G1          G2          G3\n",
       "count  395.000000  395.000000  395.000000  395.000000  395.000000  395.000000  395.000000  ...  395.000000  395.000000  395.000000  395.000000  395.000000  395.000000  395.000000\n",
       "mean    16.696203    2.749367    2.521519    1.448101    2.035443    0.334177    3.944304  ...    1.481013    2.291139    3.554430    5.708861   10.908861   10.713924   10.415190\n",
       "std      1.276043    1.094735    1.088201    0.697505    0.839240    0.743651    0.896659  ...    0.890741    1.287897    1.390303    8.003096    3.319195    3.761505    4.581443\n",
       "min     15.000000    0.000000    0.000000    1.000000    1.000000    0.000000    1.000000  ...    1.000000    1.000000    1.000000    0.000000    3.000000    0.000000    0.000000\n",
       "25%     16.000000    2.000000    2.000000    1.000000    1.000000    0.000000    4.000000  ...    1.000000    1.000000    3.000000    0.000000    8.000000    9.000000    8.000000\n",
       "50%     17.000000    3.000000    2.000000    1.000000    2.000000    0.000000    4.000000  ...    1.000000    2.000000    4.000000    4.000000   11.000000   11.000000   11.000000\n",
       "75%     18.000000    4.000000    3.000000    2.000000    2.000000    0.000000    5.000000  ...    2.000000    3.000000    5.000000    8.000000   13.000000   13.000000   14.000000\n",
       "max     22.000000    4.000000    4.000000    4.000000    4.000000    3.000000    5.000000  ...    5.000000    5.000000    5.000000   75.000000   19.000000   19.000000   20.000000\n",
       "\n",
       "[8 rows x 16 columns]"
      ]
     },
     "execution_count": 33,
     "metadata": {},
     "output_type": "execute_result"
    }
   ],
   "source": [
    "# 要約統計量まとめて計算\n",
    "student_data_math.describe()"
   ]
  },
  {
   "cell_type": "code",
   "execution_count": 34,
   "metadata": {},
   "outputs": [
    {
     "data": {
      "image/png": "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\n",
      "text/plain": [
       "<Figure size 432x288 with 1 Axes>"
      ]
     },
     "metadata": {
      "needs_background": "light"
     },
     "output_type": "display_data"
    }
   ],
   "source": [
    "# 箱ひげ図: G1\n",
    "plt.boxplot(student_data_math['G1'])\n",
    "plt.grid(True)"
   ]
  },
  {
   "cell_type": "code",
   "execution_count": 35,
   "metadata": {},
   "outputs": [
    {
     "data": {
      "image/png": "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\n",
      "text/plain": [
       "<Figure size 432x288 with 1 Axes>"
      ]
     },
     "metadata": {
      "needs_background": "light"
     },
     "output_type": "display_data"
    }
   ],
   "source": [
    "# 箱ひげ図: 欠席数\n",
    "plt.boxplot(student_data_math['absences'])\n",
    "plt.grid(True)"
   ]
  },
  {
   "cell_type": "code",
   "execution_count": 36,
   "metadata": {},
   "outputs": [
    {
     "data": {
      "image/png": "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\n",
      "text/plain": [
       "<Figure size 432x288 with 1 Axes>"
      ]
     },
     "metadata": {
      "needs_background": "light"
     },
     "output_type": "display_data"
    }
   ],
   "source": [
    "# 箱ひげ図: G1, G2, G3\n",
    "plt.boxplot([student_data_math['G1'], student_data_math['G2'], student_data_math['G3']])\n",
    "plt.grid(True)"
   ]
  },
  {
   "cell_type": "code",
   "execution_count": 37,
   "metadata": {},
   "outputs": [
    {
     "data": {
      "text/plain": [
       "1.4018726369879073"
      ]
     },
     "execution_count": 37,
     "metadata": {},
     "output_type": "execute_result"
    }
   ],
   "source": [
    "# 変動係数: 欠席数\n",
    "student_data_math['absences'].std() / student_data_math['absences'].mean()"
   ]
  },
  {
   "cell_type": "code",
   "execution_count": 38,
   "metadata": {},
   "outputs": [
    {
     "data": {
      "text/plain": [
       "age           0.076427\n",
       "Medu          0.398177\n",
       "Fedu          0.431565\n",
       "traveltime    0.481668\n",
       "studytime     0.412313\n",
       "failures      2.225319\n",
       "famrel        0.227330\n",
       "freetime      0.308725\n",
       "goout         0.358098\n",
       "Dalc          0.601441\n",
       "Walc          0.562121\n",
       "health        0.391147\n",
       "absences      1.401873\n",
       "G1            0.304266\n",
       "G2            0.351086\n",
       "G3            0.439881\n",
       "dtype: float64"
      ]
     },
     "execution_count": 38,
     "metadata": {},
     "output_type": "execute_result"
    }
   ],
   "source": [
    "student_data_math.std() / student_data_math.mean()"
   ]
  },
  {
   "cell_type": "code",
   "execution_count": 40,
   "metadata": {},
   "outputs": [
    {
     "data": {
      "image/png": "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\n",
      "text/plain": [
       "<Figure size 432x288 with 1 Axes>"
      ]
     },
     "metadata": {
      "needs_background": "light"
     },
     "output_type": "display_data"
    }
   ],
   "source": [
    "# 散布図\n",
    "## 成績G1(一期目)と成績G3(三期目)の関係\n",
    "plt.plot(student_data_math['G1'] , student_data_math['G3'], 'o')\n",
    "\n",
    "# ラベル\n",
    "plt.ylabel('G3 grade')\n",
    "plt.xlabel('G1 grade')\n",
    "plt.grid(True)"
   ]
  },
  {
   "cell_type": "code",
   "execution_count": 41,
   "metadata": {},
   "outputs": [
    {
     "data": {
      "text/plain": [
       "array([[11.017, 12.188],\n",
       "       [12.188, 20.99 ]])"
      ]
     },
     "execution_count": 41,
     "metadata": {},
     "output_type": "execute_result"
    }
   ],
   "source": [
    "#　共分散行列\n",
    "np.cov(student_data_math['G1'], student_data_math['G3'])"
   ]
  },
  {
   "cell_type": "markdown",
   "metadata": {},
   "source": [
    "## G1とG3の共分散\n",
    "    共分散行列の(1,2)と(2,1)の要素。上の例でいうと12.188\n",
    "## G1の分散\n",
    "    共分散行列の(1,1)の値。上の例でいうと11.017\n",
    "## G3の分散\n",
    "    共分散行列の(2,2)の値。上の例でいうと20.99"
   ]
  },
  {
   "cell_type": "code",
   "execution_count": 42,
   "metadata": {},
   "outputs": [
    {
     "name": "stdout",
     "output_type": "stream",
     "text": [
      "G1の分散: 11.017053267364904\n",
      "G3の分散: 20.989616397866733\n"
     ]
    }
   ],
   "source": [
    "# 分散を求めて確認する\n",
    "print(\"G1の分散:\", student_data_math['G1'].var())\n",
    "print(\"G3の分散:\", student_data_math['G3'].var())"
   ]
  },
  {
   "cell_type": "markdown",
   "metadata": {},
   "source": [
    "### データ分析の現場で単に相関係数という場合にはピアソン関数を指す"
   ]
  },
  {
   "cell_type": "code",
   "execution_count": 43,
   "metadata": {},
   "outputs": [
    {
     "data": {
      "text/plain": [
       "(0.8014679320174141, 9.001430312277354e-90)"
      ]
     },
     "execution_count": 43,
     "metadata": {},
     "output_type": "execute_result"
    }
   ],
   "source": [
    "sp.stats.pearsonr(student_data_math['G1'], student_data_math['G3'])"
   ]
  },
  {
   "cell_type": "markdown",
   "metadata": {},
   "source": [
    "1つ目の0.8014679320174141は相関係数\n",
    "この場合0.8という高い数字が出た\n",
    "\n",
    "2つ目の9.001430312277354e-90はp値という値"
   ]
  },
  {
   "cell_type": "code",
   "execution_count": 44,
   "metadata": {},
   "outputs": [
    {
     "data": {
      "text/plain": [
       "array([[1.   , 0.801],\n",
       "       [0.801, 1.   ]])"
      ]
     },
     "execution_count": 44,
     "metadata": {},
     "output_type": "execute_result"
    }
   ],
   "source": [
    "# 相関行列\n",
    "np.corrcoef([student_data_math['G1'], student_data_math['G3']])"
   ]
  },
  {
   "cell_type": "code",
   "execution_count": 45,
   "metadata": {},
   "outputs": [
    {
     "data": {
      "image/png": "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\n",
      "text/plain": [
       "<Figure size 720x720 with 20 Axes>"
      ]
     },
     "metadata": {
      "needs_background": "light"
     },
     "output_type": "display_data"
    }
   ],
   "source": [
    "sns.pairplot(student_data_math[['Dalc', 'Walc', 'G1', 'G3']])\n",
    "plt.grid(True)"
   ]
  },
  {
   "cell_type": "code",
   "execution_count": 46,
   "metadata": {},
   "outputs": [
    {
     "data": {
      "text/plain": [
       "Walc\n",
       "1    11.178808\n",
       "2    11.270588\n",
       "3    10.937500\n",
       "4     9.980392\n",
       "5     9.964286\n",
       "Name: G1, dtype: float64"
      ]
     },
     "execution_count": 46,
     "metadata": {},
     "output_type": "execute_result"
    }
   ],
   "source": [
    "# 例: 週末にアルコールを飲む人の1期目の成績の平均値\n",
    "student_data_math.groupby(\"Walc\")['G1'].mean()"
   ]
  },
  {
   "cell_type": "code",
   "execution_count": 47,
   "metadata": {},
   "outputs": [
    {
     "data": {
      "image/png": "iVBORw0KGgoAAAANSUhEUgAAAYoAAAEJCAYAAACKWmBmAAAABHNCSVQICAgIfAhkiAAAAAlwSFlzAAALEgAACxIB0t1+/AAAADh0RVh0U29mdHdhcmUAbWF0cGxvdGxpYiB2ZXJzaW9uMy4yLjAsIGh0dHA6Ly9tYXRwbG90bGliLm9yZy8GearUAAAgAElEQVR4nO3de5hcZZXv8W93SEIMtCFtFCKGQJAVjEoCBs1oTFCEwYM3HERkuAgJOALiRKKOBBVlHC7HcBwOiE8wAwdmFOWioxjxjIEYNUYdAiiSpYOAlwTl6ZjTkAm5dZ8/9q6kUl21u3b1W7Xf7vp9nicPXe/e9dbq6qJX773ftVdHf38/IiIitXQWHYCIiMRNiUJERDIpUYiISCYlChERyaREISIimfYpOoDAxgKzgY3AroJjEREZLkYBBwE/A7ZVbhxpiWI2sLroIEREhqm5wA8rB0daotgI8Je/bKGvr9j6kO7u/ejpea7QGKqJNS6INzbFlY/iyieGuDo7OzjggPGQ/g6tNNISxS6Avr7+whNFKY4YxRoXxBub4spHceUTUVxVT9nrYraIiGRSohARkUxKFCIikqmp1yjM7FPAe9KH97r7R83seGApMA64w92XVHneFOB24MWAA2e4e3xXoURE2kDTjijShHACMAuYCRxjZqcDy4F3AEcCs83spCpPvxG40d2nAz8HLm9WnCIiw92aR59m8Y0/4tyrVrL4xh+x5tGng87fzFNPG4GPuPt2d98BPAYcAfzG3Z9w950kRw2nlj/JzEYDbwTuTIduqdxHREQSax59mltXrKenN6mT6+ndxq0r1gdNFk1LFO7+qLv/BMDMXg6cBvSx9zrdjcDBFU99EdCbJpJa+4iICHD3qsfZvrNvr7HtO/u4e9XjwV6j6XUUZjYDuBe4FNgBWMUufRWPO6pMU7lPpu7u/fLs3jSTJu1fdAhVxRoXxBub4spHceUzlLg29Q6448bu8VDfb7MvZr8euAv4sLt/1czmAQeW7XIQsKHiac8AXWY2yt131dgnU0/Pc4UXsEyatD/PPPNsoTFUE2tcEG9siisfxZXPUOOa2DV292mnyvF65+3s7Mj8A7uZF7NfBnwDeJ+7fzUdXptsssPNbBTwPmBF+fPS6xmrSU5VAZxVuY+IiCROmTeNMfvs/at8zD6dnDJvWrDXaOYRxaXAvsBSs91nm24CziE5ytgX+A7pRWszuxn4d3f/d+CDwK1mtgT4HXB6E+MUERm25sxITtLcvepxenq30d01llPmTds9HkLTEoW7XwJcUmPzUVX2X1D29VPA/OZEJiIyssyZcWDQxFBJldkiIpJJiUJERDKNtNuMi4jsZc2jT3P3qsfZ1LuNiU04f9+oa7/yII89tXn34yMPmcDi049uaK7S99isaxQ6ohCREau8armf5lQtN6IySQA89tRmrv3Kg7nnGtaV2SIiRWtF1XIjKpPEYONZWvE9KlGIyIhVrRAta3w4asX3qEQhIiNWd9fYXOPDUSu+RyUKERmxWlG13IgjD5mQazxLK75HJQoRGbHmzDiQs0+aTnfXWDpI/so++6Tpha96Wnz60QOSQqOrnsq/R2jO96jlsSIyopWqlmO7KWApKYSIS5XZIiJSKCUKERHJpFNPIhKdkJXGISugQ861ZNkaNvRs3f14cvc4rlw4p6G5VJktIm0lZKVxyArokHNVJgmADT1bWbJsTe65VJktIm0nZKVxyArokHNVJonBxrOoMltE2k47VFOH1Ir3q+nXKMysC/gxcDLwCuBzZZtfCqx195MrnnMWcDXwp3ToXne/rNmxikjxumv0gB5J1dQhteL9auoRhZm9FvghcASAu3/H3We6+0zgr4Fe4O+rPHU2sKi0r5KESPsIWWkcsgI65FyTu8flGs8yEiqzFwIXAhuqbLsWuMndf1Nl22zgLDN72MxuN7MDmhmkiMQjZKVxyArokHNduXDOgKTQ6KqnVlRmd/T39webrBYzexKY7+5Ppo9fDqwEDnf3AcdMZnYPcBXwU5JTVVPc/Yw6Xmoq8ESQoEVE2s+hwJOVg0XVUZwP3FgtSQC4+7tKX5vZNcBv80ze0/McfX3NT4BZYrtdQEmscUG8sSmufBRXPjHE1dnZQXf3fjW3F5Uo3gmcUG2Dmb0QONfdr0uHOoAdrQpMREaWkIVtt923nlUPbaCvHzo7YN7MyZx54vRQoUar5ctjzexFwDh3r3WK6Dngo+mFcICLgHtaEpyIjCghC9tuu289969LkgRAXz/cv24Dt923PkSoUSuijuIw4A+Vg2Z2s5m93d13Ae8BvmhmjwHHAB9tcYwiMgKELGxb9VC1NTm1x0eSlpx6cvepZV//FHhdlX0WlH29GmjsBioiIk1Q67JnwZdDW0KV2SIidejsyDc+kihRiMiIFbKwbd7MybnGRxIlChEZsUIWtp154nSOmzV59xFEZwccN6s9Vj2pH4WIjGilpBCiXuHME6e3RWKopCMKERHJpEQhIiKZdOpJpI2FbKG56PrVbN6y5yYKE8aPZunFcxuaK9aWoyErs0vv/abebUxsQvvSkHREIdKmQrbQrEwSAJu37GDR9atzzxVry9GQldnl730/zWlfGpIShUibCtlCszJJDDaeJdaWoyErs1vRvjQkJQqRNqWWo/mErMwebu+9EoVIm6rVKlMtR6sLWZk93N57JQqRNhWyheaE8aNzjWeJteVoyMrsVrQvDUmJQqRNhWyhufTiuQOSQqOrnmJtORqyMrv8ve+gOe1LQ2pJK9QWmgo8oQ53tcUaF8Qbm+LKR3HlE0NcZR3uqrZC1RGFiIhkUqIQEZFMTa/MNrMu4MfAye7+pJktB+YCW9JdrnD3eyqeMxNYBrwQ+AHwAXff2exYRZolZAV0rFXLISuzz71q5YCx5R9/U+Fzhfw5DidNPaJI+17/EDiibHg28EZ3n5n+q9YP+3bgYnc/AugAFjYzTpFmClkBHWvVcsjK7Gq/2LPGWzVXyJ/jcNPsU08LgQuBDQBmNh6YAiwzs0fM7Aoz2ysGMzsEGOfuP0mHbgFObXKcIk0Tsgo31qrlkJXZsRpu1dQhNfXUU6kPtpmVhl4CrAQuAJ4Dvg2cR3KaqWQysLHs8Ubg4Dyvm169L9ykSfsXHUJVscYF8cY2lLg21ai23dS7Lej3q7maO1czf46xfu5LWnr3WHf/LfCu0mMzux44i70TRbU6x74qYzVpeWxtscYF8cY21Lgmdo2temuGiV1jg36/mqu5czXr5xjD575seWz17S2MBTN7lZm9u2yoA6g8Nv0jUH516CDSU1ciw1HIKtxYq5ZDVmbHarhVU4fU6uWxHcD/MrMDzGw0cD6w18Vsd38KeN7MXp8OnQWsaG2YIuGErICOtWo5ZGV2rRVJjaxUCjlXyJ/jcNOSymwzexKYny6P/SBwETAauMvdP57u8x3gk+7+czM7iuR01P7AOuD97l7PbRWnosrsTLHGBfHGprjyUVz5xBDXYJXZLblG4e5Ty76+Ebixyj5vLfv6YeDYVsQmIiLZVJktIiKZ1DNbpIaQPY1jraa+cOkDbN2+Z1HhuDGd3LBofuFzXXDtSnbs2vN49Cj40uLGqqll6HREIVJFyJ7GsVZTV/5iB9i6vY8Llz5Q6FyVSQJgx65kXIqhRCFSRTtUU1f+Yh9svFVzVSaJwcal+ZQoRKoYbj2NRZpJiUKkiuHW01ikmZQoRKpoh2rqcWOq/+9fa7xVc40elW9cmk+JQqSKkD2NY62mvmHR/AG/yBtdqRRyri8tftOApKBVT8VSz+wmiaHasppY44J4Y1Nc+SiufGKISz2zRURkSJQoREQkkyqzRWpQNXU+IXtT33bfelY9tIG+fujsgHkzJ3PmidMbmitkhX270hGFSBWqps4nZG/q2+5bz/3rkiQB0NcP96/bwG33rc89V8gK+3amRCFShaqpi7Pqoep9ymqNZ2nnPtchKVGISFRqLVhsZCGjKuzDaPo1CjPrAn4MnJw2Ljof+BDQD/wcuMDdt1c85yzgauBP6dC97n5Zs2MVkeJ1dlRPCp0d+efqrtHnWhX2+TT1iMLMXgv8EDgifXwEsBj4K+DV6etfWOWps4FF7j4z/ackIS2laurizJs5Odd4lnbucx1Ssz8RC0kSQenk4jbg79y91937gV8AU6o8bzZwlpk9bGa3m9kBTY5TZC+qps4nZG/qM0+cznGzJu8+gujsgONmNbbqKWSFfTtrec/ssrFJwM+Ac9z9gYr97wGuAn4KfA6Y4u5n1PFSU1FldqZY44J4Y1Nc+SiufGKIa7DK7EIShZm9FFgBfN3dPzvIcw8Afuvu9RxVTAWeGEqsIiJtrGqiqOtitpkdC8wC/gU4xt3zLwDfM9d04LvA9e7++SrbXwic6+7XpUMdwI48r6EjitpijQvijU1x5aO48okhrrIjiqoGTRRmdg7JBeh9gXuAb5rZZe6+LG8wZrY/8D3gE+5+e43dngM+amY/dve1wEXp68oI1Ywq3J7ebXQPsQp30fWr2bxlz98oE8aPZunFcwuPK2QF9IKrV+61wqizA27+WGNzhaxkD/l+ydDVczH7Q8AcoNfd/wwcA3y4wddbALwEuNTMHkr/fQbAzG42s7e7+y7gPcAXzeyx9PU+2uDrSeSaVYULQ6vCrUwSAJu37GDR9asLjStkBXRlkoDk/V9wdf65Qlayh3y/JIx6Tj3tcvdeMwPA3X9vZjvzvIi7T02/vC79V22fBWVfrwYa+1NEhpWsKty8RxVZVbh5/xqtTBKDjbcqrpBCFraFrGSP9f1qZ/UcUWwys5kkBXKY2RnApqZGJW2jHapwY40rVnq/4lPPEcUlwJ3ANDPbADwPvKOpUUnbaIcq3FjjipXer/gMekTh7uuBo0hOBZ0AmLv/otmBSXuItQp3wvjRucZbFVdItZJxI0k6ZCV7rO9XO6tZR5Heb6kmd/8/TYloaKaigrtMMcalVU/5aNVTY2L87EMccTVccGdm30q/PBCYDqwEdgLHAevc/c1NiHeopqJEkSnWuCDe2BRXPoornxjiGixR1LxG4e5vAzCze4H3uvvj6eMpQO4aChERGZ7qWfU0pZQkANz9d8DBzQtJRERiUs+qp41mdgVwC8ntNM4HftvMoCR+Ia8rhDy3HTKukNcCYp3rgmtXsmPXnsejR8GXFhff51riUs8RxdnAq4CHgXUk1wHe38SYJHIhq6lDVvSGjCtkBXSsc1UmCYAdu5LxvEK+9xKfQY8o3H0jcEoLYpFhImQ1dciK3pBxtYPKJDHYeBa99yNbPTcFnAN8HNiP5NTTKOBQd6/WcEjaQMhq6pBijasd6L0f2eo59XQzSc/rLuBfgV7grmYGJXELWagVUqxxtQO99yNbPYmi392vBh4A1gOnAm9sZlASt5DV1CErekPG1Q5Gj8o3nkXv/chWT6IoVYI8DrzS3Z8nOf0kbSpkT+OQvalDxhWyB3Ssc31p8ZsGJIVGVz2FfO8lPoO2QjWzL5BUZ18O3Av8O0lb02OaH15uU1FldqZY44J4Y1Nc+SiufGKIa7DK7HqOKBYD17n7r0kaFnUC7wsYo4iIRKyegru17j4LwN3vJTmqqIuZdZFcCD/Z3Z80s+OBpcA44A53X1LlOVOA24EXAw6c4e7P1fuaIiISVj2J4r/N7GB3/0Oeic3stST3hDoifTwOWA7MA34P3GtmJ7n7ioqn3gjc6O5fNbPLSU55fSzPa8tApbtxburdxsQAd+NcsmwNG3q27n48uXscVy6c09BcsVYtxzpXyJ+lelNLPeo59TQeeMLMfmtmj5T+1fG8hcCFQKkS51jgN+7+hLvvJDlqOLX8CWY2mmRF1Z3p0C2V+0h+5T2I+xl6D+LKJAGwoWcrS5atyT1XrFXLsc4V8mep3tRSr3o73OVW6oFd6rUNTAY2lu2ykYE3F3wR0Jsmklr7SE6hexBXJonBxiWckD9L9aaWetWTKCqXD/WTnI7qcvfeHK9VrfSmr4F9BpVevS/cpEn7Fx0CAJtq9Bre1LsteIwh59NcA4X8WTbzcxHLZ7+S4mpMPYniOpJWqL8k+aX9KpK/9F9gZue5+zfrfK0/kiyzLTmIPaelSp4BusxslLvvqrHPoLQ8dm8Ta/Qgntg1NniMIefTXAOF/Fk263MR02e/nOKqrWx5bPXtdczxFHC8u89096OB1wM/AmYCn8oRy1rAzOxwMxtFssR2rwvZ7r4DWA2clg6dVbmP5Be6B/Hk7nG5xiWckD9L9aaWetWTKA5z9wdKD9z9p8AReVdBpRXd55DcJ+pXJLcDuRPAzG42s7enu34QON/MfgXMBQYsoZV85sw4kLNPmk5311g6gO6usZx90vSGz0NfuXDOgKTQ6KqnWKuWY50r5M+yfC6GOJeMbPVUZv8MuMzdv5c+PgG4Ang7sNLdX9X0KOs3FVVmZ4o1Log3NsWVj+LKJ4a4Gu6ZXeZC4E4z6ye52LwN+BuSiu2bgkUqIiJRqqdx0U/N7FCSi9g7gcfSC80PNzs4iVfItpchi/dCtvYMWSSnNqEynNVzjQJ33+XuD7n7L9MkIW0sZNvLkMV7IVt7hiySU5tQGe7qShQi5bLaXuYVsngvZGvPkEK+XyJFUKKQ3NT2Mh+9XzLcZV6jMLN9gF3u3m9m84FZwCp3f7AVwUmcOjuq/5JT28vq9H7JcFfziMLM/hrYBDxpZh8EbgNeDdxlZu9uUXwSoZBtL0MW74Vs7RmS2oTKcJd16ukfgTnAh4AvAG9w9/eTVGb/Qwtik0iFbHsZsngvZGvPkEVyahMqw13NgjszW1dqWGRm/+Xuh1fbFpmpqOAuU6xxQbyxKa58FFc+McQ1lFaoW8zsbQAVSeK9QJ67xoqIyDCWlSg+CFxpZrv3MbPTgM+m20REpA3UXPXk7o+Q3F683F3ufkdzQ5JmuHDpA2zdvqe1x7gxndywaH7D8y24euVeK3k6O+DmjxVfAb3o+tVs3rJj9+MJ40ez9OK5Dc0VsppaLUdlOMusozCzgy1tUWdmVwJLzWypme3bkugkiMokAbB1ex8XLn2gofkqkwQkyz8XXF1sBXRlkgDYvGUHi65fnXuukNXUajkqw13W8thjgQeB16RDpwE9wCtJbhQow0RlkhhsfDCxFpBVJonBxrOErKbOajkqMhxkHVF8FjjN3f81ffysu18BLGBPYyGRESlkMqzWRS5rXCQ2WYniMHe/v+xxB4C7/w5QKzMZ0WpVTTdSTV1qDFTvuEhssm7hsb3i8dyMbXUzswXARWVDhwK3uftFZft8EjgP+Es6tMzdb2j0NdvduDGdVU8zjRvT2K2+Yr0lxYTxo6ueZpowfnTuuebNnMz96waeZmqkmvqUedO4dcX6vU4/qeWoDCdZvymeNbODSw/c/TkAM3sZsKXRF3T3m9P+2zOBM4A/A5+u2G028N7SfkoSQ3PDovkDksJQVj3d/LE3DUgKja56ClkBvfTiuQOSQqOrnkJWU6vlqAx3WZXZ5wFnA3/j7n9Oxw4Avg582d2/MtQXN7MfANe7+9crxjcCa4HDgB8Al6Y9twczFVVmZ4o1Log3NsWVj+LKJ4a4BqvMzuyZbWafAy4BfgX0A9OBL7j75UMNzMyOB/7J3WdXjO8HfI3kHlNPArcAT7n7ZXVMOxV4YqixiYi0qfyJAsDMXkxyc8AOYK27bwwRjZl9Hbh7sCMTM5sFLK/z3lJT0RFFpljjgnhjU1z5KK58YohrsCOKenpm/xn4ZsigzGwMMA84p8q2KcDx7r48HeoA8i+EHwFi7rMcss91qWp5U+82Jg6xajlkBXTIuESGs6I63L0a+LW7V7sovhW4xswONbMOkuK+e1oaXQRi7rMcss91edVyP0OrWg5ZAR0yLpHhrqhEcRjwh/IBM/uOmb3G3Z8BLgC+BTjJEcXnWx9isWLusxyyz3XIquVY5xIZ7gY99dQM7v41kgvW5WNvLfv6LuCuVscVk1hvkxFayKrlWOcSGe6KOqKQQYSsDI5ZyKrlWOcSGe6UKCIVc5/lkH2uT5k3jTH77P0xbLRqOda5RIY7JYpIxdxnOWSf6/Kq5Q6GVrUcsgI6ZFwiw92gdRTDzFRUR5Ep1rgg3tgUVz6KK58Y4hpKz2wRERElChERyVbI8lipT8jK7JCV1BC2N/W1X3mQx57avPvxkYdMYPHpRzc0l3pTi4SnI4pIhazMDllJDWF7U1cmCYDHntrMtV95MPdc6k0t0hxKFJEKWZkdspIawvamrkwSg41nUTW1SHMoUUSqXSqzQ1I1tUhzKFFEql0qs0NSNbVIcyhRRCpkZXbISmqo3YO6kd7URx4yIdd4FlVTizSHEkWkQlZmh6ykhrC9qReffvSApNDoqif1phZpDlVmN0kM1ZbVxBoXxBub4spHceUTQ1yqzBYRkSEppODOzFYCL2FPi9ML3H1t2fbjgaXAOOAOd1/S+ihFRAQKSBRpe9PpwBR331ll+zhgOUlP7d8D95rZSe6+olkxxVrNGzKukNXPoWNTb2qRuBVx6smAfmCFmT1sZhdVbD8W+I27P5EmktuBU5sVTKzVvCHjCln9HDo29aYWiV8RieIA4PvAO4E3Ax8ws7eUbZ8MbCx7vBE4uFnBxFrNGzKukNXPoWOL9f0XkT1afurJ3dcApZsMbTGzLwNvBf5vOlatpKyvylhN6dX7umyqUbW7qXcbkybtn+dlBxjK85sZV7lG5goZW6u+z6GKKZZyiisfxdWYIq5RvAEY6+7fT4c62HNRG+CPQPkJ6oOAXDc4yrM8dmLX2Kq3eJjYNXZIS9aGuuStWXFVamSukLG16vscihiWL1ajuPJRXLWVLY+tvr2FsZRMAK41s33NbH/gbOCesu1rATOzw81sFPA+oGkXsmOt5g0ZV8jq59Cxxfr+i8geLU8U7v5t4F5gHfCfwHJ3X2NmD5nZZHd/HjgHuAv4FbAeuLNZ8cRazRsyrpDVz6FjU29qkfipMrtJYjicrCbWuCDe2BRXPoornxjiUmW2iIgMiRKFiIhkUs/sNqHqZxFplBJFGyhVP5cK20rVz4CShYgMSqee2oCqn0VkKJQo2oB6SYvIUChRtAH1khaRoVCiaAOqfhaRodDF7DZQumCtVU8i0gglijYxZ8aBzJlxYBRVoCIyvOjUk4iIZFKiEBGRTEoUIiKSSYlCREQyKVGIiEgmJQoREclUyPJYM/sU8J704b3u/tGK7Z8EzgP+kg4tc/cbWhiiiIikWp4ozOx44ARgFtAPfNfM3uXu5X2zZwPvdfc1rY5PRET2VsQRxUbgI+6+HcDMHgOmVOzzGuBjZnYY8APg0rSXtoiItFjLE4W7P1r62sxeDpwG/FXZ2H7AOuBSkt6ttwCXA5e1Mk4REUl09Pf3F/LCZjYDuBf4lLvfmrHfLGC5u8+qY9qpwBNhIhQRaTuHkvyBvpeiLma/HrgL+LC7f7Vi2xTgeHdfng51ADvyzN/T8xx9fcUkwJJY76kUa1wQb2yKKx/FlU8McXV2dtDdvV/N7UVczH4Z8A3gNHdfWWWXrcA1ZnY/SWa7ELinyn4iItICRRxRXArsCyw1s9LYTcDbgU+6+8/N7ALgW8AY4IfA5wuIU0REKOZi9iXAJVU23VS2z10kp6ZERKRgqswWEZFMShQiIpJJiUJERDIpUYiISCYlChERyaREISIimZQoREQkkxKFiIhkUqIQEZFMShQiIpJJiUJERDIpUYiISCYlChERyaREISIimZQoREQkkxKFiIhkKqpn9vuAJSQd7K5z9xsqts8ElgEvBH4AfMDdd7Y80AasefRp7l71OJt6tzGxayynzJvGnBkHNjTXbfetZ9VDG+jrh84OmDdzMmeeOL2huc69amDX2eUff1NDc4Web8myNWzo2br78eTucVy5cE7hcy26fjWbt+xp1z5h/GiWXjy3oblKn4ue3m10D/FzEfIzJlKPlh9RmNlLgX8E3gAcBZxvZq+o2O124GJ3PwLoABa2NsrGrHn0aW5dsZ6e3m30Az2927h1xXrWPPp07rluu289969LkgRAXz/cv24Dt923Pvdc1X6pZ423cr7KX+wAG3q2smTZmkLnqkwSAJu37GDR9atzz1X+uYChfS5CfsZE6lXEqafjgZXuvsndtwB3An9T2mhmhwDj3P0n6dAtwKktj7IBd696nO07+/Ya276zj7tXPZ57rlUPbcg1PlxV/mIfbLxVc1UmicHGs4T8XIScS6ReRZx6mgxsLHu8ETh2kO0H53mB7u79Gg5uKDalfzFWG580af9cc5WOJKqN550rS8i5Qs83UuYK+bkIOVczxRRLOcXVmCISRUeVsb4c2wfV0/McfbV+0zbRxK6xu08vVI4/88yzuebq7KieLDo7yD1XlpBzhZ5vpMwV8nMRcq5mmTRp/2hiKae4auvs7Mj8A7uIU09/BMqvvB0EbMixPVqnzJvGmH32fkvH7NPJKfOm5Z5r3szJucaHq8nd43KNt2quCeNH5xrPEvJzEXIukXoVkSj+A3izmU0ysxcA7wa+W9ro7k8Bz5vZ69Ohs4AVrQ8zvzkzDuTsk6bT3TWWDqC7ayxnnzS9oRUpZ544neNmTaYzPb7q7IDjZjW26qnWaqRGVymFnO/KhXMG/CJvdKVSyLmWXjx3QFJodNVT+ecChva5CPkZE6lXR39/60/RpMtjP0GyPPZmd7/GzL4DfNLdf25mR5Esj90fWAe8392rn5zd21TgiaJOPZWL4XCymljjgnhjU1z5KK58Yoir7NTTocCTldsLqaNw938D/q1i7K1lXz/M3he4RUSkIKrMFhGRTEoUIiKSSYlCREQyFXKNoolGQXJhJgaxxFEp1rgg3tgUVz6KK5+i4yp7/VHVthey6qmJ3gDkvxmPiIgAzAV+WDk40hLFWGA2yW0/dhUci4jIcDGKpLj5Z8CAUoSRlihERCQwXcwWEZFMShQiIpJJiUJERDIpUYiISCYlChERyaREISIimZQoREQk00i7hUdUzOxaYJK7n1N0LABm9jbg08B44D53v6TYiBJm9rfAP6QPV7j7pQXH0wX8GDjZ3Z80s+OBpcA44A53XxJJXOcDHwL6gZ8DF1DZtOYAAAZJSURBVLj79qLjKhu/EDjV3ee3OqZqcZnZHOA6kj43jwBnx/B+mdkJwLUkRW8PAguKiCuLjiiaxMzeDJxTdBwlZnYYcBPwDuBVwNFmdlKxUUHa5fCfgXnAUcDc9BdzUfG8luQWBkekj8cBy0netyOB2UW8b1XiOgJYDPwV8GqS/5cvLDqusvFXsCf5t1yV96sLuBs4391npLudV3RcqS8D73X3VwIvIOnqGRUliiYws4nAPwKfKzqWMu8i+Wv4D+6+AzgNWFtwTJD8FdVJcpQzOv23tcB4FpL8wi31aT8W+I27P+HuO4HbgVMjiGsb8Hfu3uvu/cAvgCkRxIWZjQW+BFxeQDwllXG9BVjj7o+kjy8G7okgLkj+H+gys1HAvhT7+a9Kp56a40vAZcDLig6kzOHAdjO7DzgQ+BbF/o8MgLs/a2aXA+tJ/gd5gOSwvKh4FgCYWWloMsm9w0o2Age3OKwBcaW95Z9KxyYBF1HAEWyV9wvgn0iOwp5odTwlVeI6HHjOzO4BppHcPPQjEcQF8EGSz30vyXt2Z6vjGoyOKAIzswXA7939+0XHUmEf4Hjgb4HXkfylfHahEQFm9mrgXOAQkpuS7QIKvUZRodr9n/taHkUNZvZS4PvAl939gYLDwczeAkxx938pOpYK+wAnAouAWSRHsB8vNCLAzA4ErgJeSfL5/wnJ9bCoKFGEdxpwgpk9BHwGeLuZXVdwTABPA//h7s+4+1bgG8TRl/xE4Pvu/md33wbcAswvNKK9/ZHkCKzkIPY+bVAYM5sO/Ai41d0/W3Q8qdOBGenn/2bgNWZ2R8ExQfL5/0l6CnEX8DXi+PzPBX7p7o+7ex+wjLg+/4BOPQXn7m8pfW1m5wDz3f3vi4tot28Dt5rZBOBZ4CSSZFG0h4FrzGw88N/A20hudRyLtYCZ2eEkpwXeR3JapVBmtj/wPeAT7n570fGUuPu5pa/NbD7waXc/rbiIdvsecIWZvczdfw+cDPxnwTEB/BL4vJm9xN3/RLJoIqbPP6Ajirbh7muBa0hWXPyK5Px24acH3P17wFdI/qd9hORi9lWFBlXG3Z8nOfd/F8n7tp44ziEvAF4CXGpmD6X/PlN0ULFKk8MFwLfMbD0wkeRaSqHc/TGSa4X3m9kjwGuI69QroH4UIiIyCB1RiIhIJiUKERHJpEQhIiKZlChERCSTEoWIiGRSHYVIBTM7Dzgf6ALGAL8FlqRLjMv3OwG4xt1ntjC2bwN3uvstrXpNESUKkTJm9jngjcB70vspYWZvAr5tZse4++/SO8peRnJ/pT8UF61IayhRiKTM7CXAh4Fp7r77RoDuvtLMFpHcHwiS246MJ7lHVc0iNzM7FriR5KjkcZL7WS1KN38B2JLOcyxJMeTrSHoldJD0JPiRmU0GbiW5OeFTwIvL5j8ynaeb5A6k/+zuhVeNy8ijaxQie8wBHitPEiXufltaRYu7fyO9LcumWhOZ2T4k1dyXu/urSXpulJ+ieiVwursfBRxNkgjmuPsrSBJD6YZ1N5Dco2gGSZOi6WXz3wl83N2PIenncamZva7h716kBh1RiOzRQdItDth9P6XV6cP9gK+5+yfqnOtVAO6+Iv3v/Wb2y7Ltvy+d2nL3NWa2BLjAzKaR3BTu2XS/40lv6eDu/2VmK9PxI0hul7287JbV40jujPqTOmMUqYsShcgea4HpZtbt7j3u/izpUYCZfRp4UY65djLwFuW7yr5+rvSFmf0PklNInwe+SXI/qb9NN/dXzLMz/e8oYHP5hfT01Nn/yxGjSF106kkk5e4bSH5hf93MdneLS79+PXv/oh/MY8A2M/vrdI5jSY4yqt1c7S3At9z9iyR3Dn0nSSIA+C7JCqxSHMeVwgWeT/uNY2YvI7kT6TE5YhSpi24KKFLBzM4APkByumk08DxwB3CDu/932X7zgf+d9jquNs9Mkj7lY4FfkySbd5FcwN79vLSvxL+RHOHvAn4AvJuktWk3yV1+p5GssNqHpP/ELWZ2FElim5jG+QV3vynYGyGSUqIQaRIzuxb4n+7+p/Qv/oeBw9x9c8GhieSiaxQizfMU8H0z28GeJa9KEjLs6IhCREQy6WK2iIhkUqIQEZFMShQiIpJJiUJERDIpUYiISCYlChERyfT/Ac5IJ1K+2vacAAAAAElFTkSuQmCC\n",
      "text/plain": [
       "<Figure size 432x288 with 1 Axes>"
      ]
     },
     "metadata": {
      "needs_background": "light"
     },
     "output_type": "display_data"
    }
   ],
   "source": [
    "# 散布図\n",
    "plt.plot(student_data_math['G1'], student_data_math['G3'], 'o')\n",
    "plt.xlabel('G1 grade')\n",
    "plt.ylabel('G3 grade')\n",
    "plt.grid(True)"
   ]
  },
  {
   "cell_type": "code",
   "execution_count": 48,
   "metadata": {},
   "outputs": [],
   "source": [
    "from sklearn import linear_model\n",
    "\n",
    "# 線形回帰のインスタンスを生成\n",
    "reg = linear_model.LinearRegression()"
   ]
  },
  {
   "cell_type": "code",
   "execution_count": 49,
   "metadata": {},
   "outputs": [
    {
     "name": "stdout",
     "output_type": "stream",
     "text": [
      "回帰係数:  [1.106]\n",
      "切片:  -1.6528038288004634\n"
     ]
    }
   ],
   "source": [
    "# 説明変数に一期目の数学の成績　を利用\n",
    "# locはデータフレームから、行と列を指定して取り出す。loc[:, ['G1']]は、G1列の全ての列を取り出すことをしている\n",
    "# values に直しているので注意\n",
    "X = student_data_math.loc[:, ['G1']].values\n",
    "\n",
    "# 目的変数に最終の数学の成績を利用\n",
    "Y = student_data_math['G3'].values\n",
    "\n",
    "#　予測モデルを計算、　ここでa, bを算出\n",
    "reg.fit(X, Y)\n",
    "\n",
    "# 回帰係数\n",
    "print('回帰係数: ', reg.coef_)\n",
    "\n",
    "# 切片\n",
    "print('切片: ', reg.intercept_)"
   ]
  },
  {
   "cell_type": "code",
   "execution_count": 51,
   "metadata": {},
   "outputs": [
    {
     "data": {
      "image/png": "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\n",
      "text/plain": [
       "<Figure size 432x288 with 1 Axes>"
      ]
     },
     "metadata": {
      "needs_background": "light"
     },
     "output_type": "display_data"
    }
   ],
   "source": [
    "# 上記の散布図と同じ散布図\n",
    "plt.scatter(X, Y)\n",
    "plt.xlabel('G1 grade')\n",
    "plt.ylabel('G3 grade')\n",
    "\n",
    "# その上に線形回帰直線を引く\n",
    "plt.plot(X, reg.predict(X))\n",
    "plt.grid(True)"
   ]
  },
  {
   "cell_type": "code",
   "execution_count": 52,
   "metadata": {},
   "outputs": [
    {
     "name": "stdout",
     "output_type": "stream",
     "text": [
      "決定係数:  0.6423508460522701\n"
     ]
    }
   ],
   "source": [
    "# 決定係数、寄与率とも呼ばれる\n",
    "print('決定係数: ', reg.score(X, Y))"
   ]
  },
  {
   "cell_type": "code",
   "execution_count": null,
   "metadata": {},
   "outputs": [],
   "source": []
=======
   "execution_count": null,
   "metadata": {},
   "outputs": [],
   "source": [
    "# 標準偏差: "
   ]
>>>>>>> ee3aad0830479e4d94e8e933965005d3753a5344
  }
 ],
 "metadata": {
  "kernelspec": {
   "display_name": "Python 3",
   "language": "python",
   "name": "python3"
  },
  "language_info": {
   "codemirror_mode": {
    "name": "ipython",
    "version": 3
   },
   "file_extension": ".py",
   "mimetype": "text/x-python",
   "name": "python",
   "nbconvert_exporter": "python",
   "pygments_lexer": "ipython3",
   "version": "3.7.5"
  }
 },
 "nbformat": 4,
 "nbformat_minor": 4
}
