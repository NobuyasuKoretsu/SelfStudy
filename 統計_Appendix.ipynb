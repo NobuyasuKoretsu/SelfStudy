{
 "cells": [
  {
   "cell_type": "markdown",
   "metadata": {},
   "source": [
    "# 離散一様分布\n",
    "確率変数Xがn個の値(x1, x2, x3, ....., Xn)を同じ確率で取りうる時、Xは離散一様分布に従う\n",
    "\n",
    "f(xi) = 1/n"
   ]
  },
  {
   "cell_type": "code",
   "execution_count": 2,
   "metadata": {},
   "outputs": [],
   "source": [
    "import numpy as np\n",
    "from numpy.random import randn\n",
    "import pandas as pd\n",
    "from scipy import stats\n",
    "import matplotlib as mpl\n",
    "import matplotlib.pyplot as plt\n",
    "import seaborn as sns\n",
    "%matplotlib inline"
   ]
  },
  {
   "cell_type": "markdown",
   "metadata": {},
   "source": [
    "仮想的なサイコロを作ってその振る舞いを可視化する"
   ]
  },
  {
   "cell_type": "code",
   "execution_count": 3,
   "metadata": {},
   "outputs": [
    {
     "data": {
      "image/png": "[encoded data removed]",
      "text/plain": [
       "<Figure size 432x288 with 1 Axes>"
      ]
     },
     "metadata": {
      "needs_background": "light"
     },
     "output_type": "display_data"
    }
   ],
   "source": [
    "# 確率質量関数(Probability Mass Function)を作って描画する\n",
    "\n",
    "# サイコロの取り得る値\n",
    "roll_options = [1, 2, 3, 4, 5, 6]\n",
    "\n",
    "# 確率の総和は1である\n",
    "tprob = 1\n",
    "\n",
    "# 公式なサイコロだったら、どの目も同じ確率で出る\n",
    "prob_roll = tprob / len(roll_options)\n",
    "\n",
    "# 描画する\n",
    "uni_plot = plt.bar(roll_options, [prob_roll] * 6)"
   ]
  },
  {
   "cell_type": "markdown",
   "metadata": {},
   "source": [
    "平均と分散\n",
    "\n",
    "離散一様分布における平均は最大値(b)と最小値(a)を足して2で割ったもの\n",
    "    μ = (b + a) / 2\n",
    "\n",
    "分散は次の式で計算できる\n",
    "    σ² = {(b - a + 1)² - 1 } / 12"
   ]
  },
  {
   "cell_type": "markdown",
   "metadata": {},
   "source": [
    "Scipyを使うとこの分布を簡単に作ることができる"
   ]
  },
  {
   "cell_type": "code",
   "execution_count": 4,
   "metadata": {},
   "outputs": [
    {
     "name": "stdout",
     "output_type": "stream",
     "text": [
      "平均=3.5 分散=2.9166666666666665\n"
     ]
    }
   ],
   "source": [
    "from scipy.stats import randint\n",
    "\n",
    "# 最大の手前までなので7\n",
    "low, high = 1, 7\n",
    "\n",
    "# このコードで離散一様分布の平均と分散を計算することができる\n",
    "mean, var = randint.stats(low, high)\n",
    "print('平均={} 分散={}'.format(mean, var))"
   ]
  },
  {
   "cell_type": "code",
   "execution_count": 5,
   "metadata": {},
   "outputs": [
    {
     "data": {
      "text/plain": [
       "<BarContainer object of 6 artists>"
      ]
     },
     "execution_count": 5,
     "metadata": {},
     "output_type": "execute_result"
    },
    {
     "data": {
      "image/png": "[encoded data removed]",
      "text/plain": [
       "<Figure size 432x288 with 1 Axes>"
      ]
     },
     "metadata": {
      "needs_background": "light"
     },
     "output_type": "display_data"
    }
   ],
   "source": [
    "#　確率質量関数(Probably Mass Function)では\n",
    "plt.bar(roll_options, randint.pmf(roll_options, low, high))"
   ]
  },
  {
   "cell_type": "markdown",
   "metadata": {},
   "source": [
    "# 応用例\n",
    "## German Tank Problem\n",
    "離散一様分布の応用例として、第二次世界大戦においてイギ率がドイツ軍の戦車の生産台数を推定したGerman Tank Problemが有名\n",
    "\n",
    "Wikipedia(英語) http://en.wikipedia.org/wiki/German_tank_problem\n",
    "\n",
    "詳しい解説はWiki\n",
    "簡単例を実際に計算する\n",
    "\n",
    "Population max = sample max + {(sample max) / (sample size)} - 1\n",
    "\n",
    "5台(sample size)の戦車をとらえ、それぞれのシリアル番号が3, 7, 11, 16だとするとsample max = 16となる\n",
    "最小分散不偏推定量を求める"
   ]
  },
  {
   "cell_type": "code",
   "execution_count": 6,
   "metadata": {},
   "outputs": [
    {
     "data": {
      "text/plain": [
       "18.2"
      ]
     },
     "execution_count": 6,
     "metadata": {},
     "output_type": "execute_result"
    }
   ],
   "source": [
    "tank_estimate = 16 + (16/ 5) - 1\n",
    "tank_estimate"
   ]
  },
  {
   "cell_type": "markdown",
   "metadata": {},
   "source": [
    "ベイズ統計的なアプローチでは次のような値になる"
   ]
  },
  {
   "cell_type": "code",
   "execution_count": 7,
   "metadata": {},
   "outputs": [
    {
     "data": {
      "text/plain": [
       "20.0"
      ]
     },
     "execution_count": 7,
     "metadata": {},
     "output_type": "execute_result"
    }
   ],
   "source": [
    "m = 16\n",
    "k = 5\n",
    "tank_b_estimate = (m-1)*( (k-1) / (k-2))\n",
    "tank_b_estimate"
   ]
  },
  {
   "cell_type": "markdown",
   "metadata": {},
   "source": [
    "________________________________________________________________________________________________________\n",
    "# 連続一様分布\n",
    "離散一様分布では、取り得る値と確率をわかりやすく対応づけることができた。\n",
    "しかし、連続一様分布ではそうはいかない。\n",
    "無限の精度を求めると、いくらでも数字を細かくできる。\n",
    "これは2つの数字を考えた時、その間から必ず別の数字を選べるという意味である。\n",
    "例えば5.41と5.42を考えると、5.415を選べる\n",
    "\n",
    "そう考えると、連続一様分布では取り得る値の個数nが無限大となる。\n",
    "そうなると確率は1/∞となってしまうので0となる。\n",
    "これでは話が始まらないので、連続分布で確率を考えるときは1点ではなく、領域で考える\n",
    "わかりやすくするために例を交えながら見ていく\n",
    "\n",
    "-  連続な確率変数Xが次のような確率密度関数(Probability Density Function)に従うとき、これを連続一様分布と呼ぶ\n",
    "\n",
    "```\n",
    "    f(x) = 1 / (b - a)\n",
    "    a <= x <= b\n",
    "```\n",
    "\n",
    "離散一様分布ではf(x)=1/nだったが、連続一様分布では最小値aと最大値bの間で定義される領域を考える\n",
    "\n",
    "分布の平均は単純である\n",
    "\n",
    "(a + b) / 2\n",
    "\n",
    "分散は次のように定義される\n",
    "\n",
    "σ² = (b - a)² / 12\n",
    "\n",
    "\n",
    "ニューヨーク市での平均的なタクシーの乗車時間は22分くらいであると知られている。\n",
    "調査の結果、この乗車時間が19分から27分の間の連続的な一様分布に従うことがわかったとする。\n",
    "タクシーの乗車時間の確率密度関数を求めよ"
   ]
  },
  {
   "cell_type": "code",
   "execution_count": 8,
   "metadata": {},
   "outputs": [
    {
     "name": "stdout",
     "output_type": "stream",
     "text": [
      "確率密度関数は, 0.125\n"
     ]
    }
   ],
   "source": [
    "# 乗車時間の下限\n",
    "a = 19\n",
    "\n",
    "# 上限\n",
    "b = 27\n",
    "\n",
    "#　連続一様分布の確率密度関数\n",
    "fx = 1.0 / (b - a)\n",
    "\n",
    "print('確率密度関数は, {}'.format(fx))"
   ]
  },
  {
   "cell_type": "code",
   "execution_count": 9,
   "metadata": {},
   "outputs": [
    {
     "name": "stdout",
     "output_type": "stream",
     "text": [
      "分散=5.333333333333333\n"
     ]
    }
   ],
   "source": [
    "# 分散\n",
    "var = ((b - a)**2) / 12\n",
    "\n",
    "print('分散={}'.format(var))"
   ]
  },
  {
   "cell_type": "markdown",
   "metadata": {},
   "source": [
    "乗車時間が少なくとも25分続く確率を求めよ"
   ]
  },
  {
   "cell_type": "code",
   "execution_count": 10,
   "metadata": {},
   "outputs": [
    {
     "name": "stdout",
     "output_type": "stream",
     "text": [
      "乗車時間が少なくとも25分かかる確率は25.0%\n"
     ]
    }
   ],
   "source": [
    "# 全体から乗車時間が25ふんより短い場合を引けばいい\n",
    "\n",
    "# 乗車時間が27分までに収まる確率は全体なので1\n",
    "# 一方、乗車時間が25分までに収まる確率は\n",
    "f25 = (25 - 19) / (b - a)\n",
    "\n",
    "ans = 1 - f25\n",
    "\n",
    "print('乗車時間が少なくとも25分かかる確率は{}%'.format(100*ans))"
   ]
  },
  {
   "cell_type": "markdown",
   "metadata": {},
   "source": [
    "scipyを使って便利に連続一様分布を作る"
   ]
  },
  {
   "cell_type": "code",
   "execution_count": 11,
   "metadata": {},
   "outputs": [
    {
     "data": {
      "text/plain": [
       "[<matplotlib.lines.Line2D at 0x126f83f10>]"
      ]
     },
     "execution_count": 11,
     "metadata": {},
     "output_type": "execute_result"
    },
    {
     "data": {
      "image/png": "[encoded data removed]",
      "text/plain": [
       "<Figure size 432x288 with 1 Axes>"
      ]
     },
     "metadata": {
      "needs_background": "light"
     },
     "output_type": "display_data"
    }
   ],
   "source": [
    "from scipy.stats import uniform\n",
    "\n",
    "# 最小と最大を作る\n",
    "A = 0\n",
    "B = 5\n",
    "\n",
    "# AからBまで100Point作っておく\n",
    "x = np.linspace(A, B, 100)\n",
    "\n",
    "# 連続一様分布はuniform(loc=start point, scale=endpoint)で作れる\n",
    "rv = uniform(loc=A, scale=B)\n",
    "\n",
    "# 確率密度関数(PDF)と累積分布関数(Cumulative Distribution Function)を描いてみる\n",
    "plt.plot(x, rv.pdf(x))\n",
    "plt.plot(x, rv.cdf(x))"
   ]
  },
  {
   "cell_type": "markdown",
   "metadata": {},
   "source": [
    "青い線(確率密度関数)は0.2のところにあるが、1/(5-0)が1/5=0.2なのですぐに確かめられる\n",
    "\n",
    "オレンジは累積分布関数"
   ]
  },
  {
   "cell_type": "markdown",
   "metadata": {},
   "source": [
    "________________________________________________________________________________________________________\n",
    "# 二項分布(Binomial Distribution)　←　離散分布の一種\n",
    "\n",
    "まずは例題\n",
    "プレイヤーAとプレイヤーBの2人がバスケットボールを行う。\n",
    "Aは1ゲームで平均11回シュートして、平均的な成功率は72%\n",
    "Bは1ゲームで平均15回シュートして、平均的な成功率は48%\n",
    "\n",
    "問１:プレイヤーAが平均的な1試合で6回シュートを決める確率は？\n",
    "\n",
    "問2:プレイヤーBが平均的な1試合で6回シュートを決める確率は？\n",
    "\n",
    "以下の条件が満たされれば、この問題を二項分布を使って考えることができる\n",
    "    1)全体がn回の連続した試行からなる\n",
    "    2)それぞれの試行は、相互に排他的な2つの事象からなる(例えば成功と失敗)\n",
    "    3)成功の確率がpならば、失敗の確率は1-p\n",
    "    4)それぞれの試行は独立\n",
    "二項分布の確率質量関数は以下のようになる。\n",
    "\n",
    "Pr(X = k) = C(n, k)(p**k) * (1-p)**(n-k)\n",
    "\n",
    "nは試行の回数、kは成功の数、pは成功の確率, 1-pは失敗の確率だが、しばしばqと書かれる\n",
    "\n",
    "n回試行して,k回成功する確率は\n",
    "\n",
    "p ** k\n",
    "\n",
    "またn-k回失敗する確率は\n",
    "(1-p)**(n-k)\n",
    "\n",
    "n回の試行でk回の成功がどこに来るかわからないが、この並べ方は\n",
    "C(n,k)\n",
    "通りある。これらを全て掛け合わせればn回間k回成功する確率が求まる\n",
    "\n",
    "C(n, k)は組み合わせ\n",
    "\n",
    "実際には下記の式で表現できる\n",
    "C(n, k)=n! / k!(n-k)!\n",
    "\n",
    "\n",
    "## 例題"
   ]
  },
  {
   "cell_type": "code",
   "execution_count": 19,
   "metadata": {},
   "outputs": [
    {
     "name": "stdout",
     "output_type": "stream",
     "text": [
      "プレイヤーAが平均的な試合で6回シュートを決める確率は11.08 %\n",
      "プレイヤーBが平均的な試合で6回シュートを決める確率は17.02 %\n"
     ]
    }
   ],
   "source": [
    "# Aの成功率\n",
    "p_A = 0.72\n",
    "# シュートの数\n",
    "n_A = 11\n",
    "\n",
    "# 成功数\n",
    "k = 6\n",
    "\n",
    "# 組み合わせを求めるため\n",
    "import scipy.special as sc\n",
    "\n",
    "comb_A = sc.comb(n_A, k)\n",
    "\n",
    "#　これらを掛け合わせれば確率が出る\n",
    "answer_A = comb_A * (p_A**k) * ((1-p_A)**(n_A-k))\n",
    "\n",
    "# パーセントで結果を格納\n",
    "answer_A = 100*answer_A\n",
    "\n",
    "#　Bも同様\n",
    "p_B = 0.48\n",
    "n_B = 15\n",
    "comb_B = sc.comb(n_B, k)\n",
    "answer_B = comb_B * (p_B ** k) * ((1-p_B)**(n_B-k))\n",
    "answer_B = 100*answer_B\n",
    "\n",
    "print('プレイヤーAが平均的な試合で6回シュートを決める確率は{:0.2f} %'.format(answer_A))\n",
    "print('プレイヤーBが平均的な試合で6回シュートを決める確率は{:0.2f} %'.format(answer_B))"
   ]
  },
  {
   "cell_type": "markdown",
   "metadata": {},
   "source": [
    "下手なシュートも数打てば当たるように見える\n",
    "\n",
    "では次に、9回決める確率を計算する"
   ]
  },
  {
   "cell_type": "code",
   "execution_count": 21,
   "metadata": {},
   "outputs": [
    {
     "name": "stdout",
     "output_type": "stream",
     "text": [
      "プレイヤーAが平均的な試合で9回シュートを決める確率は22.42 %\n",
      "プレイヤーBが平均的な試合で9回シュートを決める確率は13.38 %\n"
     ]
    }
   ],
   "source": [
    "# 9回決めなければならない\n",
    "# 成功数\n",
    "k = 9\n",
    "\n",
    "# 組み合わせを求めるため\n",
    "import scipy.special as sc\n",
    "\n",
    "comb_A = sc.comb(n_A, k)\n",
    "\n",
    "#　これらを掛け合わせれば確率が出る\n",
    "answer_A = comb_A * (p_A**k) * ((1-p_A)**(n_A-k))\n",
    "\n",
    "# パーセントで結果を格納\n",
    "answer_A = 100*answer_A\n",
    "\n",
    "#　Bも同様\n",
    "p_B = 0.48\n",
    "n_B = 15\n",
    "comb_B = sc.comb(n_B, k)\n",
    "answer_B = comb_B * (p_B ** k) * ((1-p_B)**(n_B-k))\n",
    "answer_B = 100*answer_B\n",
    "\n",
    "print('プレイヤーAが平均的な試合で9回シュートを決める確率は{:0.2f} %'.format(answer_A))\n",
    "print('プレイヤーBが平均的な試合で9回シュートを決める確率は{:0.2f} %'.format(answer_B))"
   ]
  },
  {
   "cell_type": "markdown",
   "metadata": {},
   "source": [
    "9回決める確率はAの方が上回っている\n",
    "\n",
    "ここで注意しなければならない点として、今考えているのは9回決める確率であって、少なくとも9回決める確率ではないということ"
   ]
  },
  {
   "cell_type": "markdown",
   "metadata": {},
   "source": [
    "## 平均と分散\n",
    "二項分布の平均は単純\n",
    "μ= n * p\n",
    "\n",
    "これは直感的にもわかりやすい\n",
    "\n",
    "庭訓的な成功率と試行の回数をかければ平均的な成功の回数となる\n",
    "\n",
    "標準偏差(分散の平方根)は次の式で求められる\n",
    "\n",
    "σ　= √n　*　q　*　p\n",
    "\n",
    "\n",
    "シュートの決まる回数の平均と、+/-標準偏差を計算できる"
   ]
  },
  {
   "cell_type": "code",
   "execution_count": 22,
   "metadata": {},
   "outputs": [
    {
     "name": "stdout",
     "output_type": "stream",
     "text": [
      "プレイヤーAは1試合で、平均7.9回±1.5シュートを決める\n",
      "\n",
      "プレイヤーBは1試合で、平均7.2回±1.9シュートを決める\n"
     ]
    }
   ],
   "source": [
    "#　平均値\n",
    "mu_A = n_A * p_A\n",
    "mu_B = n_B * p_B\n",
    "\n",
    "# 標準偏差\n",
    "sigma_A = (n_A * p_A*(1-p_A))**0.5\n",
    "sigma_B = (n_B * p_B*(1-p_B))**0.5\n",
    "\n",
    "print(\"プレイヤーAは1試合で、平均{:0.1f}回±{:0.1f}シュートを決める\".format(mu_A, sigma_A), end=\"\\n\\n\")\n",
    "print(\"プレイヤーBは1試合で、平均{:0.1f}回±{:0.1f}シュートを決める\".format(mu_B, sigma_B))"
   ]
  },
  {
   "cell_type": "markdown",
   "metadata": {},
   "source": [
    "#### scipyを利用できる"
   ]
  },
  {
   "cell_type": "code",
   "execution_count": 23,
   "metadata": {},
   "outputs": [
    {
     "name": "stdout",
     "output_type": "stream",
     "text": [
      "7.92\n",
      "1.4891608375189027\n"
     ]
    }
   ],
   "source": [
    "from scipy.stats import binom\n",
    "\n",
    "mean, var = binom.stats(n_A, p_A)\n",
    "\n",
    "print(mean)\n",
    "print(var ** 0.5)"
   ]
  },
  {
   "cell_type": "markdown",
   "metadata": {},
   "source": [
    "#### 確率質量関数も求められる\n",
    "\n",
    "コインを10回投げて裏と表を出すことを考えてみる"
   ]
  },
  {
   "cell_type": "code",
   "execution_count": 26,
   "metadata": {},
   "outputs": [
    {
     "data": {
      "text/plain": [
       "array([0.00097656, 0.00976563, 0.04394531, 0.1171875 , 0.20507813,\n",
       "       0.24609375, 0.20507813, 0.1171875 , 0.04394531, 0.00976563,\n",
       "       0.00097656])"
      ]
     },
     "execution_count": 26,
     "metadata": {},
     "output_type": "execute_result"
    }
   ],
   "source": [
    "import numpy as np\n",
    "# 10回と、表の確率0.5をセット\n",
    "n = 10\n",
    "p = 0.5\n",
    "\n",
    "x = range(n + 1)\n",
    "\n",
    "# 二項分布の確率質量関数から、実際の確率を計算できる\n",
    "Y = binom.pmf(x, n, p)\n",
    "\n",
    "Y"
   ]
  },
  {
   "cell_type": "code",
   "execution_count": 27,
   "metadata": {},
   "outputs": [
    {
     "data": {
      "text/plain": [
       "Text(0, 0.5, 'Probability')"
      ]
     },
     "execution_count": 27,
     "metadata": {},
     "output_type": "execute_result"
    },
    {
     "data": {
      "image/png": "[encoded data removed]",
      "text/plain": [
       "<Figure size 432x288 with 1 Axes>"
      ]
     },
     "metadata": {
      "needs_background": "light"
     },
     "output_type": "display_data"
    }
   ],
   "source": [
    "# プロットする\n",
    "plt.plot(x, Y, 'o')\n",
    "\n",
    "# y=1.08はタイトルが少し上に行くようにするため\n",
    "plt.title('Binomial Distribution PMF : 10 coin Flips, Odds of Success for Heads is p=0.5', y=1.08)\n",
    "\n",
    "# 軸にタイトルをつけられる\n",
    "plt.xlabel('Number of Heads')\n",
    "plt.ylabel('Probability')"
   ]
  },
  {
   "cell_type": "code",
   "execution_count": null,
   "metadata": {},
   "outputs": [],
   "source": []
  }
 ],
 "metadata": {
  "kernelspec": {
   "display_name": "Python 3",
   "language": "python",
   "name": "python3"
  },
  "language_info": {
   "codemirror_mode": {
    "name": "ipython",
    "version": 3
   },
   "file_extension": ".py",
   "mimetype": "text/x-python",
   "name": "python",
   "nbconvert_exporter": "python",
   "pygments_lexer": "ipython3",
   "version": "3.7.5"
  }
 },
 "nbformat": 4,
 "nbformat_minor": 4
}
